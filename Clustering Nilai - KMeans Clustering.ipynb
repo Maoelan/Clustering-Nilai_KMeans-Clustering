{
 "cells": [
  {
   "cell_type": "code",
   "execution_count": 463,
   "id": "67d62ab3",
   "metadata": {},
   "outputs": [],
   "source": [
    "#Import libraray pandas sklearn processing dan kmeans dan matplotlib\n",
    "import pandas as pd\n",
    "from sklearn.cluster import KMeans\n",
    "from sklearn import preprocessing\n",
    "import matplotlib.pyplot as plt"
   ]
  },
  {
   "cell_type": "code",
   "execution_count": 464,
   "id": "d2109cc2",
   "metadata": {},
   "outputs": [
    {
     "data": {
      "text/html": [
       "<div>\n",
       "<style scoped>\n",
       "    .dataframe tbody tr th:only-of-type {\n",
       "        vertical-align: middle;\n",
       "    }\n",
       "\n",
       "    .dataframe tbody tr th {\n",
       "        vertical-align: top;\n",
       "    }\n",
       "\n",
       "    .dataframe thead th {\n",
       "        text-align: right;\n",
       "    }\n",
       "</style>\n",
       "<table border=\"1\" class=\"dataframe\">\n",
       "  <thead>\n",
       "    <tr style=\"text-align: right;\">\n",
       "      <th></th>\n",
       "      <th>ASL</th>\n",
       "      <th>Nama</th>\n",
       "      <th>Matematika</th>\n",
       "      <th>Fisika</th>\n",
       "      <th>Kimia</th>\n",
       "      <th>Biologi</th>\n",
       "      <th>Sejarah</th>\n",
       "      <th>Akuntansi</th>\n",
       "      <th>Sosiologi</th>\n",
       "      <th>Geografi</th>\n",
       "    </tr>\n",
       "  </thead>\n",
       "  <tbody>\n",
       "    <tr>\n",
       "      <th>0</th>\n",
       "      <td>2012173</td>\n",
       "      <td>Afgansyah</td>\n",
       "      <td>79</td>\n",
       "      <td>75</td>\n",
       "      <td>75</td>\n",
       "      <td>85</td>\n",
       "      <td>76</td>\n",
       "      <td>78</td>\n",
       "      <td>76</td>\n",
       "      <td>80</td>\n",
       "    </tr>\n",
       "    <tr>\n",
       "      <th>1</th>\n",
       "      <td>2012174</td>\n",
       "      <td>Denny Sumargo</td>\n",
       "      <td>84</td>\n",
       "      <td>76</td>\n",
       "      <td>79</td>\n",
       "      <td>77</td>\n",
       "      <td>76</td>\n",
       "      <td>77</td>\n",
       "      <td>75</td>\n",
       "      <td>81</td>\n",
       "    </tr>\n",
       "    <tr>\n",
       "      <th>2</th>\n",
       "      <td>2012175</td>\n",
       "      <td>Lina Nur Aini</td>\n",
       "      <td>77</td>\n",
       "      <td>84</td>\n",
       "      <td>78</td>\n",
       "      <td>85</td>\n",
       "      <td>92</td>\n",
       "      <td>89</td>\n",
       "      <td>77</td>\n",
       "      <td>82</td>\n",
       "    </tr>\n",
       "    <tr>\n",
       "      <th>3</th>\n",
       "      <td>2012176</td>\n",
       "      <td>Ananda Anugrah</td>\n",
       "      <td>78</td>\n",
       "      <td>86</td>\n",
       "      <td>84</td>\n",
       "      <td>77</td>\n",
       "      <td>78</td>\n",
       "      <td>77</td>\n",
       "      <td>75</td>\n",
       "      <td>75</td>\n",
       "    </tr>\n",
       "    <tr>\n",
       "      <th>4</th>\n",
       "      <td>2012177</td>\n",
       "      <td>Putri Khadijah</td>\n",
       "      <td>82</td>\n",
       "      <td>82</td>\n",
       "      <td>81</td>\n",
       "      <td>91</td>\n",
       "      <td>90</td>\n",
       "      <td>82</td>\n",
       "      <td>79</td>\n",
       "      <td>91</td>\n",
       "    </tr>\n",
       "    <tr>\n",
       "      <th>5</th>\n",
       "      <td>2012178</td>\n",
       "      <td>Ika Inayah</td>\n",
       "      <td>75</td>\n",
       "      <td>75</td>\n",
       "      <td>70</td>\n",
       "      <td>82</td>\n",
       "      <td>75</td>\n",
       "      <td>75</td>\n",
       "      <td>79</td>\n",
       "      <td>75</td>\n",
       "    </tr>\n",
       "    <tr>\n",
       "      <th>6</th>\n",
       "      <td>2012179</td>\n",
       "      <td>Wa Ode Sofia Z.</td>\n",
       "      <td>77</td>\n",
       "      <td>75</td>\n",
       "      <td>75</td>\n",
       "      <td>89</td>\n",
       "      <td>80</td>\n",
       "      <td>80</td>\n",
       "      <td>75</td>\n",
       "      <td>75</td>\n",
       "    </tr>\n",
       "    <tr>\n",
       "      <th>7</th>\n",
       "      <td>2012180</td>\n",
       "      <td>Budy Santoso</td>\n",
       "      <td>77</td>\n",
       "      <td>76</td>\n",
       "      <td>70</td>\n",
       "      <td>77</td>\n",
       "      <td>77</td>\n",
       "      <td>80</td>\n",
       "      <td>75</td>\n",
       "      <td>80</td>\n",
       "    </tr>\n",
       "    <tr>\n",
       "      <th>8</th>\n",
       "      <td>2012181</td>\n",
       "      <td>Andi Eka Murti</td>\n",
       "      <td>79</td>\n",
       "      <td>76</td>\n",
       "      <td>75</td>\n",
       "      <td>84</td>\n",
       "      <td>77</td>\n",
       "      <td>81</td>\n",
       "      <td>76</td>\n",
       "      <td>77</td>\n",
       "    </tr>\n",
       "    <tr>\n",
       "      <th>9</th>\n",
       "      <td>2012182</td>\n",
       "      <td>Ahsan Muhajir</td>\n",
       "      <td>80</td>\n",
       "      <td>75</td>\n",
       "      <td>75</td>\n",
       "      <td>75</td>\n",
       "      <td>75</td>\n",
       "      <td>78</td>\n",
       "      <td>77</td>\n",
       "      <td>79</td>\n",
       "    </tr>\n",
       "    <tr>\n",
       "      <th>10</th>\n",
       "      <td>2012183</td>\n",
       "      <td>Siswan Sumargo</td>\n",
       "      <td>76</td>\n",
       "      <td>71</td>\n",
       "      <td>75</td>\n",
       "      <td>75</td>\n",
       "      <td>77</td>\n",
       "      <td>81</td>\n",
       "      <td>79</td>\n",
       "      <td>84</td>\n",
       "    </tr>\n",
       "    <tr>\n",
       "      <th>11</th>\n",
       "      <td>2012184</td>\n",
       "      <td>Anis Fadilah</td>\n",
       "      <td>80</td>\n",
       "      <td>77</td>\n",
       "      <td>75</td>\n",
       "      <td>78</td>\n",
       "      <td>78</td>\n",
       "      <td>77</td>\n",
       "      <td>77</td>\n",
       "      <td>80</td>\n",
       "    </tr>\n",
       "  </tbody>\n",
       "</table>\n",
       "</div>"
      ],
      "text/plain": [
       "        ASL             Nama  Matematika  Fisika  Kimia  Biologi  Sejarah  \\\n",
       "0   2012173        Afgansyah          79      75     75       85       76   \n",
       "1   2012174    Denny Sumargo          84      76     79       77       76   \n",
       "2   2012175    Lina Nur Aini          77      84     78       85       92   \n",
       "3   2012176   Ananda Anugrah          78      86     84       77       78   \n",
       "4   2012177   Putri Khadijah          82      82     81       91       90   \n",
       "5   2012178       Ika Inayah          75      75     70       82       75   \n",
       "6   2012179  Wa Ode Sofia Z.          77      75     75       89       80   \n",
       "7   2012180     Budy Santoso          77      76     70       77       77   \n",
       "8   2012181   Andi Eka Murti          79      76     75       84       77   \n",
       "9   2012182    Ahsan Muhajir          80      75     75       75       75   \n",
       "10  2012183   Siswan Sumargo          76      71     75       75       77   \n",
       "11  2012184     Anis Fadilah          80      77     75       78       78   \n",
       "\n",
       "    Akuntansi  Sosiologi  Geografi  \n",
       "0          78         76        80  \n",
       "1          77         75        81  \n",
       "2          89         77        82  \n",
       "3          77         75        75  \n",
       "4          82         79        91  \n",
       "5          75         79        75  \n",
       "6          80         75        75  \n",
       "7          80         75        80  \n",
       "8          81         76        77  \n",
       "9          78         77        79  \n",
       "10         81         79        84  \n",
       "11         77         77        80  "
      ]
     },
     "execution_count": 464,
     "metadata": {},
     "output_type": "execute_result"
    }
   ],
   "source": [
    "#Memasukkan dataset\n",
    "nilai1 = pd.read_csv('dataset.csv')\n",
    "nilai1"
   ]
  },
  {
   "cell_type": "code",
   "execution_count": 465,
   "id": "ddaeb2a0",
   "metadata": {},
   "outputs": [
    {
     "data": {
      "text/html": [
       "<div>\n",
       "<style scoped>\n",
       "    .dataframe tbody tr th:only-of-type {\n",
       "        vertical-align: middle;\n",
       "    }\n",
       "\n",
       "    .dataframe tbody tr th {\n",
       "        vertical-align: top;\n",
       "    }\n",
       "\n",
       "    .dataframe thead th {\n",
       "        text-align: right;\n",
       "    }\n",
       "</style>\n",
       "<table border=\"1\" class=\"dataframe\">\n",
       "  <thead>\n",
       "    <tr style=\"text-align: right;\">\n",
       "      <th></th>\n",
       "      <th>Matematika</th>\n",
       "      <th>Fisika</th>\n",
       "      <th>Kimia</th>\n",
       "      <th>Biologi</th>\n",
       "      <th>Sejarah</th>\n",
       "      <th>Akuntansi</th>\n",
       "      <th>Sosiologi</th>\n",
       "      <th>Geografi</th>\n",
       "    </tr>\n",
       "  </thead>\n",
       "  <tbody>\n",
       "    <tr>\n",
       "      <th>0</th>\n",
       "      <td>50</td>\n",
       "      <td>60</td>\n",
       "      <td>77</td>\n",
       "      <td>80</td>\n",
       "      <td>90</td>\n",
       "      <td>95</td>\n",
       "      <td>45</td>\n",
       "      <td>88</td>\n",
       "    </tr>\n",
       "    <tr>\n",
       "      <th>1</th>\n",
       "      <td>90</td>\n",
       "      <td>85</td>\n",
       "      <td>87</td>\n",
       "      <td>90</td>\n",
       "      <td>88</td>\n",
       "      <td>55</td>\n",
       "      <td>68</td>\n",
       "      <td>77</td>\n",
       "    </tr>\n",
       "    <tr>\n",
       "      <th>2</th>\n",
       "      <td>75</td>\n",
       "      <td>77</td>\n",
       "      <td>56</td>\n",
       "      <td>73</td>\n",
       "      <td>84</td>\n",
       "      <td>63</td>\n",
       "      <td>79</td>\n",
       "      <td>55</td>\n",
       "    </tr>\n",
       "  </tbody>\n",
       "</table>\n",
       "</div>"
      ],
      "text/plain": [
       "   Matematika  Fisika  Kimia  Biologi  Sejarah  Akuntansi  Sosiologi  Geografi\n",
       "0          50      60     77       80       90         95         45        88\n",
       "1          90      85     87       90       88         55         68        77\n",
       "2          75      77     56       73       84         63         79        55"
      ]
     },
     "execution_count": 465,
     "metadata": {},
     "output_type": "execute_result"
    }
   ],
   "source": [
    "#Membaca dataset untuk prediksi nanti\n",
    "nilai2 = pd.read_csv('nilai2.csv')\n",
    "nilai2"
   ]
  },
  {
   "cell_type": "code",
   "execution_count": 466,
   "id": "9877aade",
   "metadata": {},
   "outputs": [
    {
     "data": {
      "text/html": [
       "<div>\n",
       "<style scoped>\n",
       "    .dataframe tbody tr th:only-of-type {\n",
       "        vertical-align: middle;\n",
       "    }\n",
       "\n",
       "    .dataframe tbody tr th {\n",
       "        vertical-align: top;\n",
       "    }\n",
       "\n",
       "    .dataframe thead th {\n",
       "        text-align: right;\n",
       "    }\n",
       "</style>\n",
       "<table border=\"1\" class=\"dataframe\">\n",
       "  <thead>\n",
       "    <tr style=\"text-align: right;\">\n",
       "      <th></th>\n",
       "      <th>Matematika</th>\n",
       "      <th>Fisika</th>\n",
       "      <th>Kimia</th>\n",
       "      <th>Biologi</th>\n",
       "      <th>Sejarah</th>\n",
       "      <th>Akuntansi</th>\n",
       "      <th>Sosiologi</th>\n",
       "      <th>Geografi</th>\n",
       "    </tr>\n",
       "  </thead>\n",
       "  <tbody>\n",
       "    <tr>\n",
       "      <th>0</th>\n",
       "      <td>79</td>\n",
       "      <td>75</td>\n",
       "      <td>75</td>\n",
       "      <td>85</td>\n",
       "      <td>76</td>\n",
       "      <td>78</td>\n",
       "      <td>76</td>\n",
       "      <td>80</td>\n",
       "    </tr>\n",
       "    <tr>\n",
       "      <th>1</th>\n",
       "      <td>84</td>\n",
       "      <td>76</td>\n",
       "      <td>79</td>\n",
       "      <td>77</td>\n",
       "      <td>76</td>\n",
       "      <td>77</td>\n",
       "      <td>75</td>\n",
       "      <td>81</td>\n",
       "    </tr>\n",
       "    <tr>\n",
       "      <th>2</th>\n",
       "      <td>77</td>\n",
       "      <td>84</td>\n",
       "      <td>78</td>\n",
       "      <td>85</td>\n",
       "      <td>92</td>\n",
       "      <td>89</td>\n",
       "      <td>77</td>\n",
       "      <td>82</td>\n",
       "    </tr>\n",
       "    <tr>\n",
       "      <th>3</th>\n",
       "      <td>78</td>\n",
       "      <td>86</td>\n",
       "      <td>84</td>\n",
       "      <td>77</td>\n",
       "      <td>78</td>\n",
       "      <td>77</td>\n",
       "      <td>75</td>\n",
       "      <td>75</td>\n",
       "    </tr>\n",
       "    <tr>\n",
       "      <th>4</th>\n",
       "      <td>82</td>\n",
       "      <td>82</td>\n",
       "      <td>81</td>\n",
       "      <td>91</td>\n",
       "      <td>90</td>\n",
       "      <td>82</td>\n",
       "      <td>79</td>\n",
       "      <td>91</td>\n",
       "    </tr>\n",
       "    <tr>\n",
       "      <th>5</th>\n",
       "      <td>75</td>\n",
       "      <td>75</td>\n",
       "      <td>70</td>\n",
       "      <td>82</td>\n",
       "      <td>75</td>\n",
       "      <td>75</td>\n",
       "      <td>79</td>\n",
       "      <td>75</td>\n",
       "    </tr>\n",
       "    <tr>\n",
       "      <th>6</th>\n",
       "      <td>77</td>\n",
       "      <td>75</td>\n",
       "      <td>75</td>\n",
       "      <td>89</td>\n",
       "      <td>80</td>\n",
       "      <td>80</td>\n",
       "      <td>75</td>\n",
       "      <td>75</td>\n",
       "    </tr>\n",
       "    <tr>\n",
       "      <th>7</th>\n",
       "      <td>77</td>\n",
       "      <td>76</td>\n",
       "      <td>70</td>\n",
       "      <td>77</td>\n",
       "      <td>77</td>\n",
       "      <td>80</td>\n",
       "      <td>75</td>\n",
       "      <td>80</td>\n",
       "    </tr>\n",
       "    <tr>\n",
       "      <th>8</th>\n",
       "      <td>79</td>\n",
       "      <td>76</td>\n",
       "      <td>75</td>\n",
       "      <td>84</td>\n",
       "      <td>77</td>\n",
       "      <td>81</td>\n",
       "      <td>76</td>\n",
       "      <td>77</td>\n",
       "    </tr>\n",
       "    <tr>\n",
       "      <th>9</th>\n",
       "      <td>80</td>\n",
       "      <td>75</td>\n",
       "      <td>75</td>\n",
       "      <td>75</td>\n",
       "      <td>75</td>\n",
       "      <td>78</td>\n",
       "      <td>77</td>\n",
       "      <td>79</td>\n",
       "    </tr>\n",
       "    <tr>\n",
       "      <th>10</th>\n",
       "      <td>76</td>\n",
       "      <td>71</td>\n",
       "      <td>75</td>\n",
       "      <td>75</td>\n",
       "      <td>77</td>\n",
       "      <td>81</td>\n",
       "      <td>79</td>\n",
       "      <td>84</td>\n",
       "    </tr>\n",
       "    <tr>\n",
       "      <th>11</th>\n",
       "      <td>80</td>\n",
       "      <td>77</td>\n",
       "      <td>75</td>\n",
       "      <td>78</td>\n",
       "      <td>78</td>\n",
       "      <td>77</td>\n",
       "      <td>77</td>\n",
       "      <td>80</td>\n",
       "    </tr>\n",
       "  </tbody>\n",
       "</table>\n",
       "</div>"
      ],
      "text/plain": [
       "    Matematika  Fisika  Kimia  Biologi  Sejarah  Akuntansi  Sosiologi  \\\n",
       "0           79      75     75       85       76         78         76   \n",
       "1           84      76     79       77       76         77         75   \n",
       "2           77      84     78       85       92         89         77   \n",
       "3           78      86     84       77       78         77         75   \n",
       "4           82      82     81       91       90         82         79   \n",
       "5           75      75     70       82       75         75         79   \n",
       "6           77      75     75       89       80         80         75   \n",
       "7           77      76     70       77       77         80         75   \n",
       "8           79      76     75       84       77         81         76   \n",
       "9           80      75     75       75       75         78         77   \n",
       "10          76      71     75       75       77         81         79   \n",
       "11          80      77     75       78       78         77         77   \n",
       "\n",
       "    Geografi  \n",
       "0         80  \n",
       "1         81  \n",
       "2         82  \n",
       "3         75  \n",
       "4         91  \n",
       "5         75  \n",
       "6         75  \n",
       "7         80  \n",
       "8         77  \n",
       "9         79  \n",
       "10        84  \n",
       "11        80  "
      ]
     },
     "execution_count": 466,
     "metadata": {},
     "output_type": "execute_result"
    }
   ],
   "source": [
    "#Preprocessing untuk menghapus ASL dan NAMA\n",
    "nilai1.drop(columns = [\"ASL\", \"Nama\"], inplace = True)\n",
    "nilai1.dropna(inplace = True)\n",
    "nilai1"
   ]
  },
  {
   "cell_type": "code",
   "execution_count": 467,
   "id": "1be4c684",
   "metadata": {},
   "outputs": [
    {
     "data": {
      "text/plain": [
       "KMeans(n_clusters=3)"
      ]
     },
     "execution_count": 467,
     "metadata": {},
     "output_type": "execute_result"
    }
   ],
   "source": [
    "#Membentuk 3 cluster untuk data yang akan diproses selanjutnya\n",
    "kmeans = KMeans(n_clusters = 3)\n",
    "kmeans.fit(nilai1)"
   ]
  },
  {
   "cell_type": "code",
   "execution_count": 468,
   "id": "fe8d00e2",
   "metadata": {},
   "outputs": [
    {
     "name": "stdout",
     "output_type": "stream",
     "text": [
      "[0 1 2 1 2 0 0 1 0 1 1 1]\n"
     ]
    }
   ],
   "source": [
    "#Melakukan prediksi data akan masuk ke cluster mana antara 0, 1 atau 2\n",
    "labels = kmeans.predict(nilai1)\n",
    "print(labels)"
   ]
  },
  {
   "cell_type": "code",
   "execution_count": 469,
   "id": "2c4cf265",
   "metadata": {},
   "outputs": [
    {
     "name": "stdout",
     "output_type": "stream",
     "text": [
      "[[77.5        75.25       73.75       85.         77.         78.5\n",
      "  76.5        76.75      ]\n",
      " [79.16666667 76.83333333 76.33333333 76.5        76.83333333 78.33333333\n",
      "  76.33333333 79.83333333]\n",
      " [79.5        83.         79.5        88.         91.         85.5\n",
      "  78.         86.5       ]]\n"
     ]
    }
   ],
   "source": [
    "#Menentukan titik centroid\n",
    "centroids = kmeans.cluster_centers_\n",
    "print(centroids)"
   ]
  },
  {
   "cell_type": "code",
   "execution_count": 470,
   "id": "338d7385",
   "metadata": {},
   "outputs": [
    {
     "name": "stdout",
     "output_type": "stream",
     "text": [
      "3\n"
     ]
    }
   ],
   "source": [
    "n_iter = kmeans.n_iter_\n",
    "print(n_iter)"
   ]
  },
  {
   "cell_type": "code",
   "execution_count": 471,
   "id": "787e1570",
   "metadata": {},
   "outputs": [],
   "source": [
    "#Mengubah data agar bisa divisualisasikan\n",
    "nilai1 = nilai1.values"
   ]
  },
  {
   "cell_type": "code",
   "execution_count": 472,
   "id": "f08f40fe",
   "metadata": {},
   "outputs": [
    {
     "data": {
      "image/png": "[encoded data removed]",
      "text/plain": [
       "<Figure size 504x504 with 1 Axes>"
      ]
     },
     "metadata": {
      "needs_background": "light"
     },
     "output_type": "display_data"
    }
   ],
   "source": [
    "#Visualisasi dari prediksi yang sudah terbentuk tadi\n",
    "fig = plt.figure(figsize = (7,7))\n",
    "\n",
    "plt.scatter(nilai1[labels == 0, 0], nilai1[labels == 0, 1], s = 100, c = 'red', label = 'cluster 1')\n",
    "plt.scatter(nilai1[labels == 1, 0], nilai1[labels == 1, 1], s = 100, c = 'yellow', label = 'cluster 2')\n",
    "plt.scatter(nilai1[labels == 2, 0], nilai1[labels == 2, 1], s = 100, c = 'blue', label = 'cluster 3')\n",
    "plt.scatter(centroids[:, 0], centroids[:, 1], s = 70, c = 'black', label = 'centroid')\n",
    "plt.legend()\n",
    "plt.show()"
   ]
  },
  {
   "cell_type": "code",
   "execution_count": 473,
   "id": "03e7a707",
   "metadata": {
    "scrolled": false
   },
   "outputs": [
    {
     "name": "stdout",
     "output_type": "stream",
     "text": [
      "[0 0 0]\n"
     ]
    }
   ],
   "source": [
    "#Memprediksi data pada variabel nilai2\n",
    "#Data pada nilai2 masuk pada cluster 0 0 0\n",
    "labels2 = kmeans.predict(nilai2)\n",
    "print(labels2)"
   ]
  },
  {
   "cell_type": "code",
   "execution_count": 474,
   "id": "4e42250c",
   "metadata": {},
   "outputs": [
    {
     "name": "stdout",
     "output_type": "stream",
     "text": [
      "[0]\n"
     ]
    },
    {
     "name": "stderr",
     "output_type": "stream",
     "text": [
      "C:\\Users\\Asus\\anaconda3\\lib\\site-packages\\sklearn\\base.py:450: UserWarning: X does not have valid feature names, but KMeans was fitted with feature names\n",
      "  warnings.warn(\n"
     ]
    }
   ],
   "source": [
    "#Memprediksi data satu persatu\n",
    "print(kmeans.predict([[50, 60, 77, 80, 90, 95, 45, 88]]))"
   ]
  },
  {
   "cell_type": "code",
   "execution_count": 475,
   "id": "0075d8a9",
   "metadata": {},
   "outputs": [
    {
     "name": "stdout",
     "output_type": "stream",
     "text": [
      "[0]\n"
     ]
    },
    {
     "name": "stderr",
     "output_type": "stream",
     "text": [
      "C:\\Users\\Asus\\anaconda3\\lib\\site-packages\\sklearn\\base.py:450: UserWarning: X does not have valid feature names, but KMeans was fitted with feature names\n",
      "  warnings.warn(\n"
     ]
    }
   ],
   "source": [
    "print(kmeans.predict([[90, 85, 87, 90, 88, 55, 68, 77]]))"
   ]
  },
  {
   "cell_type": "code",
   "execution_count": 476,
   "id": "36d083ef",
   "metadata": {
    "scrolled": true
   },
   "outputs": [
    {
     "name": "stdout",
     "output_type": "stream",
     "text": [
      "[0]\n"
     ]
    },
    {
     "name": "stderr",
     "output_type": "stream",
     "text": [
      "C:\\Users\\Asus\\anaconda3\\lib\\site-packages\\sklearn\\base.py:450: UserWarning: X does not have valid feature names, but KMeans was fitted with feature names\n",
      "  warnings.warn(\n"
     ]
    }
   ],
   "source": [
    "print(kmeans.predict([[75, 77, 56, 73, 84, 63, 79, 55]]))"
   ]
  }
 ],
 "metadata": {
  "kernelspec": {
   "display_name": "Python 3 (ipykernel)",
   "language": "python",
   "name": "python3"
  },
  "language_info": {
   "codemirror_mode": {
    "name": "ipython",
    "version": 3
   },
   "file_extension": ".py",
   "mimetype": "text/x-python",
   "name": "python",
   "nbconvert_exporter": "python",
   "pygments_lexer": "ipython3",
   "version": "3.9.12"
  }
 },
 "nbformat": 4,
 "nbformat_minor": 5
}
